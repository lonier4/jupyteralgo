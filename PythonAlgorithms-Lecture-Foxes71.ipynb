{
 "cells": [
  {
   "cell_type": "markdown",
   "metadata": {},
   "source": [
    "# Algorithms, Binary Search & Linked Lists"
   ]
  },
  {
   "cell_type": "markdown",
   "metadata": {},
   "source": [
    "## Tasks Today:\n",
    " \n",
    "1) <b>In-Place Algorithms</b> <br>\n",
    " &nbsp;&nbsp;&nbsp;&nbsp; a) Syntax <br>\n",
    " &nbsp;&nbsp;&nbsp;&nbsp; a) Out of Place Algorithm <br>\n",
    " &nbsp;&nbsp;&nbsp;&nbsp; b) In-Class Exercise #1 <br>\n",
    "2) <b>Two Pointers</b> <br>\n",
    "3) <b>Linked Lists</b> <br>\n",
    "4) <b>Merge Sort</b> <br>\n",
    " &nbsp;&nbsp;&nbsp;&nbsp; a) Video on Algorithms <br>\n",
    " &nbsp;&nbsp;&nbsp;&nbsp; b) How it Works <br>\n",
    "5) <b>Exercises</b> <br>\n",
    " &nbsp;&nbsp;&nbsp;&nbsp; a) Exercise #1 - Reverse a List in Place Using an In-Place Algorithm <br>\n",
    " &nbsp;&nbsp;&nbsp;&nbsp; b) Exercise #2 - Find Distinct Words <br>\n",
    " &nbsp;&nbsp;&nbsp;&nbsp; c) Exercise #3 - Write a program to implement a Linear Search Algorithm. <br>"
   ]
  },
  {
   "cell_type": "markdown",
   "metadata": {},
   "source": [
    "## In-Place Algorithms"
   ]
  },
  {
   "cell_type": "markdown",
   "metadata": {},
   "source": [
    "<p> What makes an algorithm in-place vs. out of place? </p>\n",
    "<p> The short answer: is the original data modified? If yes- in-place. If no, out of place. </p>\n",
    "<br>\n",
    "<p> When do I know what to use? </p>\n",
    "<p> If you want to maintain data integrity (aka keep your original data unchanged), always use an out of place algorithm. </p>\n",
    "<p> As a generalization: </p>\n",
    "<p> If you want to be more memory efficient, use an in-place algorithm. </p>\n",
    "<p> If you want to be more time efficient, time efficient out of place algorithms tend to be easier to write than their in-place equivalents. </p>"
   ]
  },
  {
   "cell_type": "code",
   "execution_count": 5,
   "metadata": {},
   "outputs": [
    {
     "name": "stdout",
     "output_type": "stream",
     "text": [
      "pre-sorting animals ['Platypus', 'Echidna', 'Tasmanian Tiger', 'Wallaby']\n",
      "post-out of place sorting ['Platypus', 'Echidna', 'Tasmanian Tiger', 'Wallaby']\n",
      "copy created by out of place sorting ['Echidna', 'Platypus', 'Tasmanian Tiger', 'Wallaby']\n",
      "post-in-place sorting ['Echidna', 'Platypus', 'Tasmanian Tiger', 'Wallaby']\n"
     ]
    }
   ],
   "source": [
    "# A simple pre-built example: .sort() vs. sorted()\n",
    "# Both are sorting algorithms\n",
    "# Both use the TimSort approach (more on this later)\n",
    "# Both are the same time complexity O(nlogn)\n",
    "# However, .sort() is an in-place algorithm\n",
    "# and sorted() is an out of place algorithm\n",
    "\n",
    "animals = ['Platypus', 'Echidna', 'Tasmanian Tiger', 'Wallaby']\n",
    "print('pre-sorting animals', animals)\n",
    "sorted_animals_copy = sorted(animals) # out of place sorting\n",
    "print('post-out of place sorting', animals)\n",
    "print('copy created by out of place sorting', sorted_animals_copy)\n",
    "animals.sort() # in-place algorithm\n",
    "print('post-in-place sorting', animals)"
   ]
  },
  {
   "cell_type": "markdown",
   "metadata": {},
   "source": [
    "#### Syntax"
   ]
  },
  {
   "cell_type": "code",
   "execution_count": 6,
   "metadata": {},
   "outputs": [
    {
     "name": "stdout",
     "output_type": "stream",
     "text": [
      "['Platypus', 'Echidna', 'Tasmanian Tiger', 'Wallaby']\n",
      "['Tasmanian Tiger', 'Echidna', 'Platypus', 'Wallaby']\n"
     ]
    }
   ],
   "source": [
    "# some examples: moving things around in a list\n",
    "animals = ['Platypus', 'Echidna', 'Tasmanian Tiger', 'Wallaby']\n",
    "# I want to write an algorithm to swap the values at 2 indexes\n",
    "\n",
    "def swapper(a_list, index_a, index_b):\n",
    "    # multiple variable assignment\n",
    "    a_list[index_a], a_list[index_b] = a_list[index_b], a_list[index_a]\n",
    "\n",
    "print(animals)\n",
    "swapper(animals, 0, 2)\n",
    "print(animals)"
   ]
  },
  {
   "cell_type": "markdown",
   "metadata": {},
   "source": [
    "#### Out of Place Algorithm"
   ]
  },
  {
   "cell_type": "code",
   "execution_count": 8,
   "metadata": {},
   "outputs": [
    {
     "name": "stdout",
     "output_type": "stream",
     "text": [
      "['Platypus', 'Echidna', 'Tasmanian Tiger', 'Wallaby']\n",
      "['Platypus', 'Echidna', 'Tasmanian Tiger', 'Wallaby']\n",
      "['Tasmanian Tiger', 'Echidna', 'Platypus', 'Wallaby']\n"
     ]
    }
   ],
   "source": [
    "# some examples: moving things around in a list\n",
    "animals = ['Platypus', 'Echidna', 'Tasmanian Tiger', 'Wallaby']\n",
    "# I want to write an algorithm to swap the values at 2 indexes\n",
    "\n",
    "def copyswapper(a_list, index_a, index_b):\n",
    "    answer = a_list[:]\n",
    "    # multiple variable assignment\n",
    "    answer[index_a], answer[index_b] = answer[index_b], answer[index_a]\n",
    "    return answer\n",
    "\n",
    "print(animals)\n",
    "swappedanimals = copyswapper(animals, 0, 2)\n",
    "print(animals)\n",
    "print(swappedanimals)"
   ]
  },
  {
   "cell_type": "code",
   "execution_count": 10,
   "metadata": {},
   "outputs": [
    {
     "name": "stdout",
     "output_type": "stream",
     "text": [
      "['Platypus', 'Tasmanian Tiger', 'Wallaby']\n",
      "\n"
     ]
    }
   ],
   "source": [
    "# in-place vs. out of place list removal:\n",
    "# .pop() .remove() del are 3 ways to in-place remove from a list\n",
    "# filter() or a list comprehension are 2 ways to out of place remove from a list\n",
    "animals = ['Platypus', 'Echidna', 'Tasmanian Tiger', 'Wallaby']\n",
    "\n",
    "# both remove 'Echidna'\n",
    "\n",
    "# out of place\n",
    "noechidna = [x for x in animals if x != 'Echidna']\n",
    "\n",
    "# in-place\n",
    "animals.remove('Echidna')\n",
    "\n",
    "print(animals)\n",
    "print(noechidna)"
   ]
  },
  {
   "cell_type": "code",
   "execution_count": null,
   "metadata": {},
   "outputs": [],
   "source": []
  },
  {
   "cell_type": "markdown",
   "metadata": {},
   "source": [
    "#### In-Class Exercise #1 <br>\n",
    "<p>Write a function that takes in four arguments (list, index1, index2, index3), and swaps those three positions in the list passed in.</p>"
   ]
  },
  {
   "cell_type": "code",
   "execution_count": 15,
   "metadata": {},
   "outputs": [
    {
     "name": "stdout",
     "output_type": "stream",
     "text": [
      "original [10, 4, 3, 8, 4, 2, 6]\n",
      "copy [6, 4, 3, 10, 4, 2, 8]\n",
      "original [10, 4, 3, 8, 4, 2, 6]\n",
      "original [6, 4, 3, 10, 4, 2, 8]\n"
     ]
    }
   ],
   "source": [
    "l_1 = [10, 4, 3, 8, 4, 2, 6]\n",
    "\n",
    "def swap(some_list, i1, i2, i3):\n",
    "    # will swap 3 indexes\n",
    "    some_list[i1], some_list[i2], some_list[i3] = some_list[i3], some_list[i1], some_list[i2]\n",
    "    \n",
    "def copyswap(some_list, i1, i2, i3):\n",
    "    newlist = some_list[:] # copy made using list slicing\n",
    "    newlist[i1], newlist[i2], newlist[i3] = newlist[i3], newlist[i1], newlist[i2]\n",
    "    return newlist\n",
    "\n",
    "print('original', l_1)\n",
    "l_2 = copyswap(l_1, 0, 3, -1)\n",
    "print('copy', l_2)\n",
    "print('original', l_1)\n",
    "swap(l_1, 0, 3, -1)\n",
    "print('original', l_1)"
   ]
  },
  {
   "cell_type": "code",
   "execution_count": 20,
   "metadata": {},
   "outputs": [
    {
     "name": "stdout",
     "output_type": "stream",
     "text": [
      "['Platypus', 'Tasmanian Tiger', 'Wallaby', 'Fennec Fox']\n",
      "['Fennec Fox', 'Wallaby', 'Tasmanian Tiger', 'Platypus']\n"
     ]
    }
   ],
   "source": [
    "# What if we wanted to look at reversing the entire list?\n",
    "# Out of place, that's very simple: we can just use list slicing\n",
    "# list[start:stop:step]\n",
    "reversedcopy = animals[::-1] # using list slicing to make a copy reversed\n",
    "print(animals)\n",
    "print(reversedcopy)"
   ]
  },
  {
   "cell_type": "markdown",
   "metadata": {},
   "source": [
    "### Single Pointer"
   ]
  },
  {
   "cell_type": "code",
   "execution_count": 23,
   "metadata": {},
   "outputs": [
    {
     "name": "stdout",
     "output_type": "stream",
     "text": [
      "0 Roy Rogers McFreely\n",
      "1 Roger\n",
      "Thats not a persona, removing.\n",
      "1 Roger\n",
      "Thats not a persona, removing.\n",
      "1 Lavar Crush\n",
      "2 Abigail Lemonparty\n",
      "3 Ricky Spanish\n",
      "4 Roger\n",
      "Thats not a persona, removing.\n",
      "4 Roger\n",
      "Thats not a persona, removing.\n",
      "['Roy Rogers McFreely', 'Lavar Crush', 'Abigail Lemonparty', 'Ricky Spanish']\n"
     ]
    }
   ],
   "source": [
    "# custom .remove() with loop\n",
    "characters = ['Roy Rogers McFreely', 'Roger', 'Roger', 'Lavar Crush', 'Abigail Lemonparty', 'Ricky Spanish', 'Roger', 'Roger']\n",
    "\n",
    "# using a pointer to avoid jumping over removals\n",
    "i = 0\n",
    "while i < len(characters):\n",
    "    print(i, characters[i])\n",
    "    if characters[i] == 'Roger':\n",
    "        characters.pop(i)\n",
    "        print('Thats not a persona, removing.')\n",
    "    else:\n",
    "        i+=1\n",
    "    \n",
    "\n",
    "print(characters)"
   ]
  },
  {
   "cell_type": "markdown",
   "metadata": {},
   "source": [
    "## Two Pointers/ Double Pointer"
   ]
  },
  {
   "cell_type": "markdown",
   "metadata": {},
   "source": [
    "#### Two pointers is a strategy of defining two variables to 'point' at two indexes of a list while you iterate/loop over that list\n",
    "#### pointers help you keep track of where you're at in the list\n",
    "#### very useful for in-place algorithms or more efficient looping"
   ]
  },
  {
   "cell_type": "markdown",
   "metadata": {},
   "source": [
    "#### Syntax"
   ]
  },
  {
   "cell_type": "code",
   "execution_count": 24,
   "metadata": {},
   "outputs": [
    {
     "name": "stdout",
     "output_type": "stream",
     "text": [
      "left: 0, right: -1 | ['fennec fox', 'porpoise', 'moon bear', 'marine iguana', 'elephant', 'flamingo']\n",
      "left: 1, right: -2 | ['flamingo', 'porpoise', 'moon bear', 'marine iguana', 'elephant', 'fennec fox']\n",
      "left: 2, right: -3 | ['flamingo', 'elephant', 'moon bear', 'marine iguana', 'porpoise', 'fennec fox']\n",
      "left: 3, right: -4 | ['flamingo', 'elephant', 'marine iguana', 'moon bear', 'porpoise', 'fennec fox']\n",
      "['flamingo', 'elephant', 'marine iguana', 'moon bear', 'porpoise', 'fennec fox']\n"
     ]
    }
   ],
   "source": [
    "# in-place list reversing algorithm\n",
    "# double pointer approach\n",
    "animals = ['fennec fox', 'porpoise', 'moon bear', 'marine iguana', 'elephant', 'flamingo']\n",
    "\n",
    "def pointerreverse(some_list):\n",
    "    # goal here is to in-place swap all of my elements -> i should be able to return nothing from this function\n",
    "    # and print a reversed original list after the function is called\n",
    "    left = 0\n",
    "    right = -1\n",
    "    while left < len(some_list)//2: # while the left pointer hasn't passed the middle of the list\n",
    "        print(f'left: {left}, right: {right} | {some_list}')\n",
    "        # swap our values\n",
    "        some_list[left], some_list[right] = some_list[right], some_list[left]\n",
    "        # move our pointers\n",
    "        left += 1\n",
    "        right -= 1\n",
    "    print(f'left: {left}, right: {right} | {some_list}')\n",
    "\n",
    "pointerreverse(animals)\n",
    "print(animals)"
   ]
  },
  {
   "cell_type": "markdown",
   "metadata": {},
   "source": [
    "#### Video of Algorithms <br>\n",
    "<p>Watch the video about algorithms.</p>\n",
    "\n",
    "https://www.youtube.com/watch?v=Q9HjeFD62Uk\n",
    "\n",
    "https://www.youtube.com/watch?v=kPRA0W1kECg\n",
    "\n",
    "https://www.youtube.com/watch?v=ZZuD6iUe3Pc"
   ]
  },
  {
   "cell_type": "markdown",
   "metadata": {},
   "source": [
    "# Sorting Algorithms"
   ]
  },
  {
   "cell_type": "markdown",
   "metadata": {},
   "source": [
    "#### Bubble Sort\n",
    "\n",
    "Worst Case: O(n^2) Time - O(1) Space\n",
    "<br>\n",
    "Best Case: Ω(n) Time - O(1) Space"
   ]
  },
  {
   "cell_type": "code",
   "execution_count": 40,
   "metadata": {},
   "outputs": [
    {
     "name": "stdout",
     "output_type": "stream",
     "text": [
      "\n",
      "top of while loop\n",
      "checking array[0] vs. array[1] | 50 vs. 49\n",
      "swapping - flag switched, while loop needs to go again\n",
      "checking array[1] vs. array[2] | 50 vs. 39\n",
      "swapping - flag switched, while loop needs to go again\n",
      "checking array[2] vs. array[3] | 50 vs. 25\n",
      "swapping - flag switched, while loop needs to go again\n",
      "checking array[3] vs. array[4] | 50 vs. 22\n",
      "swapping - flag switched, while loop needs to go again\n",
      "checking array[4] vs. array[5] | 50 vs. 21\n",
      "swapping - flag switched, while loop needs to go again\n",
      "checking array[5] vs. array[6] | 50 vs. 20\n",
      "swapping - flag switched, while loop needs to go again\n",
      "checking array[6] vs. array[7] | 50 vs. 1\n",
      "swapping - flag switched, while loop needs to go again\n",
      "\n",
      "top of while loop\n",
      "checking array[0] vs. array[1] | 49 vs. 39\n",
      "swapping - flag switched, while loop needs to go again\n",
      "checking array[1] vs. array[2] | 49 vs. 25\n",
      "swapping - flag switched, while loop needs to go again\n",
      "checking array[2] vs. array[3] | 49 vs. 22\n",
      "swapping - flag switched, while loop needs to go again\n",
      "checking array[3] vs. array[4] | 49 vs. 21\n",
      "swapping - flag switched, while loop needs to go again\n",
      "checking array[4] vs. array[5] | 49 vs. 20\n",
      "swapping - flag switched, while loop needs to go again\n",
      "checking array[5] vs. array[6] | 49 vs. 1\n",
      "swapping - flag switched, while loop needs to go again\n",
      "checking array[6] vs. array[7] | 49 vs. 50\n",
      "\n",
      "top of while loop\n",
      "checking array[0] vs. array[1] | 39 vs. 25\n",
      "swapping - flag switched, while loop needs to go again\n",
      "checking array[1] vs. array[2] | 39 vs. 22\n",
      "swapping - flag switched, while loop needs to go again\n",
      "checking array[2] vs. array[3] | 39 vs. 21\n",
      "swapping - flag switched, while loop needs to go again\n",
      "checking array[3] vs. array[4] | 39 vs. 20\n",
      "swapping - flag switched, while loop needs to go again\n",
      "checking array[4] vs. array[5] | 39 vs. 1\n",
      "swapping - flag switched, while loop needs to go again\n",
      "checking array[5] vs. array[6] | 39 vs. 49\n",
      "checking array[6] vs. array[7] | 49 vs. 50\n",
      "\n",
      "top of while loop\n",
      "checking array[0] vs. array[1] | 25 vs. 22\n",
      "swapping - flag switched, while loop needs to go again\n",
      "checking array[1] vs. array[2] | 25 vs. 21\n",
      "swapping - flag switched, while loop needs to go again\n",
      "checking array[2] vs. array[3] | 25 vs. 20\n",
      "swapping - flag switched, while loop needs to go again\n",
      "checking array[3] vs. array[4] | 25 vs. 1\n",
      "swapping - flag switched, while loop needs to go again\n",
      "checking array[4] vs. array[5] | 25 vs. 39\n",
      "checking array[5] vs. array[6] | 39 vs. 49\n",
      "checking array[6] vs. array[7] | 49 vs. 50\n",
      "\n",
      "top of while loop\n",
      "checking array[0] vs. array[1] | 22 vs. 21\n",
      "swapping - flag switched, while loop needs to go again\n",
      "checking array[1] vs. array[2] | 22 vs. 20\n",
      "swapping - flag switched, while loop needs to go again\n",
      "checking array[2] vs. array[3] | 22 vs. 1\n",
      "swapping - flag switched, while loop needs to go again\n",
      "checking array[3] vs. array[4] | 22 vs. 25\n",
      "checking array[4] vs. array[5] | 25 vs. 39\n",
      "checking array[5] vs. array[6] | 39 vs. 49\n",
      "checking array[6] vs. array[7] | 49 vs. 50\n",
      "\n",
      "top of while loop\n",
      "checking array[0] vs. array[1] | 21 vs. 20\n",
      "swapping - flag switched, while loop needs to go again\n",
      "checking array[1] vs. array[2] | 21 vs. 1\n",
      "swapping - flag switched, while loop needs to go again\n",
      "checking array[2] vs. array[3] | 21 vs. 22\n",
      "checking array[3] vs. array[4] | 22 vs. 25\n",
      "checking array[4] vs. array[5] | 25 vs. 39\n",
      "checking array[5] vs. array[6] | 39 vs. 49\n",
      "checking array[6] vs. array[7] | 49 vs. 50\n",
      "\n",
      "top of while loop\n",
      "checking array[0] vs. array[1] | 20 vs. 1\n",
      "swapping - flag switched, while loop needs to go again\n",
      "checking array[1] vs. array[2] | 20 vs. 21\n",
      "checking array[2] vs. array[3] | 21 vs. 22\n",
      "checking array[3] vs. array[4] | 22 vs. 25\n",
      "checking array[4] vs. array[5] | 25 vs. 39\n",
      "checking array[5] vs. array[6] | 39 vs. 49\n",
      "checking array[6] vs. array[7] | 49 vs. 50\n",
      "\n",
      "top of while loop\n",
      "checking array[0] vs. array[1] | 1 vs. 20\n",
      "checking array[1] vs. array[2] | 20 vs. 21\n",
      "checking array[2] vs. array[3] | 21 vs. 22\n",
      "checking array[3] vs. array[4] | 22 vs. 25\n",
      "checking array[4] vs. array[5] | 25 vs. 39\n",
      "checking array[5] vs. array[6] | 39 vs. 49\n",
      "checking array[6] vs. array[7] | 49 vs. 50\n",
      "steps taken: 56\n"
     ]
    },
    {
     "data": {
      "text/plain": [
       "[1, 20, 21, 22, 25, 39, 49, 50]"
      ]
     },
     "execution_count": 40,
     "metadata": {},
     "output_type": "execute_result"
    }
   ],
   "source": [
    "\n",
    "\n",
    "# helper function - does a small portion of a larger process for me\n",
    "# modularized code, easier to read\n",
    "def swap(arr, i, j):\n",
    "    arr[i], arr[j] = arr[j], arr[i]\n",
    "\n",
    "def bubbleSort(array):\n",
    "    # while loop with a flag approach\n",
    "    notSorted = True\n",
    "    steps = 0 # steps variable not needed, just illustrating time complexity\n",
    "    while notSorted: # O(n)\n",
    "        print('\\ntop of while loop')\n",
    "        notSorted = False # I want to assume that the list is fully sorted already - so that I can be done\n",
    "        for i in range(len(array)-1): # O(n)\n",
    "            steps += 1\n",
    "            print(f'checking array[{i}] vs. array[{i+1}] | {array[i]} vs. {array[i+1]}')\n",
    "            if array[i] > array[i+1]:\n",
    "                print('swapping - flag switched, while loop needs to go again')\n",
    "                swap(array, i, i+1)\n",
    "                notSorted = True\n",
    "    print('steps taken:', steps)\n",
    "\n",
    "my_list = [50, 49, 39, 25, 22, 21, 20, 1]\n",
    "bubbleSort(my_list)\n",
    "my_list"
   ]
  },
  {
   "cell_type": "markdown",
   "metadata": {},
   "source": [
    "##### Insertion Sort\n",
    "\n",
    "Worst Case: O(n^2) time - O(1)space"
   ]
  },
  {
   "cell_type": "code",
   "execution_count": 46,
   "metadata": {},
   "outputs": [
    {
     "name": "stdout",
     "output_type": "stream",
     "text": [
      "\n",
      "current i value: 1, creating new j value [50, 49, 39, 25, 22, 21, 20, 1]\n",
      "swapping array[1] vs. array[0] | 49 vs. 50\n",
      "\n",
      "current i value: 2, creating new j value [49, 50, 39, 25, 22, 21, 20, 1]\n",
      "swapping array[2] vs. array[1] | 39 vs. 50\n",
      "swapping array[1] vs. array[0] | 39 vs. 49\n",
      "\n",
      "current i value: 3, creating new j value [39, 49, 50, 25, 22, 21, 20, 1]\n",
      "swapping array[3] vs. array[2] | 25 vs. 50\n",
      "swapping array[2] vs. array[1] | 25 vs. 49\n",
      "swapping array[1] vs. array[0] | 25 vs. 39\n",
      "\n",
      "current i value: 4, creating new j value [25, 39, 49, 50, 22, 21, 20, 1]\n",
      "swapping array[4] vs. array[3] | 22 vs. 50\n",
      "swapping array[3] vs. array[2] | 22 vs. 49\n",
      "swapping array[2] vs. array[1] | 22 vs. 39\n",
      "swapping array[1] vs. array[0] | 22 vs. 25\n",
      "\n",
      "current i value: 5, creating new j value [22, 25, 39, 49, 50, 21, 20, 1]\n",
      "swapping array[5] vs. array[4] | 21 vs. 50\n",
      "swapping array[4] vs. array[3] | 21 vs. 49\n",
      "swapping array[3] vs. array[2] | 21 vs. 39\n",
      "swapping array[2] vs. array[1] | 21 vs. 25\n",
      "swapping array[1] vs. array[0] | 21 vs. 22\n",
      "\n",
      "current i value: 6, creating new j value [21, 22, 25, 39, 49, 50, 20, 1]\n",
      "swapping array[6] vs. array[5] | 20 vs. 50\n",
      "swapping array[5] vs. array[4] | 20 vs. 49\n",
      "swapping array[4] vs. array[3] | 20 vs. 39\n",
      "swapping array[3] vs. array[2] | 20 vs. 25\n",
      "swapping array[2] vs. array[1] | 20 vs. 22\n",
      "swapping array[1] vs. array[0] | 20 vs. 21\n",
      "\n",
      "current i value: 7, creating new j value [20, 21, 22, 25, 39, 49, 50, 1]\n",
      "swapping array[7] vs. array[6] | 1 vs. 50\n",
      "swapping array[6] vs. array[5] | 1 vs. 49\n",
      "swapping array[5] vs. array[4] | 1 vs. 39\n",
      "swapping array[4] vs. array[3] | 1 vs. 25\n",
      "swapping array[3] vs. array[2] | 1 vs. 22\n",
      "swapping array[2] vs. array[1] | 1 vs. 21\n",
      "swapping array[1] vs. array[0] | 1 vs. 20\n",
      "steps taken: 28\n"
     ]
    },
    {
     "data": {
      "text/plain": [
       "[1, 20, 21, 22, 25, 39, 49, 50]"
      ]
     },
     "execution_count": 46,
     "metadata": {},
     "output_type": "execute_result"
    }
   ],
   "source": [
    "# helper function - does a small portion of a larger process for me\n",
    "# modularized code, easier to read\n",
    "def swap(arr, i, j):\n",
    "    arr[i], arr[j] = arr[j], arr[i]\n",
    "    \n",
    "def insertionSort(array):\n",
    "    steps = 0\n",
    "    for i in range(1, len(array)): # O(n)\n",
    "        print(f'\\ncurrent i value: {i}, creating new j value', array)\n",
    "        # pointer to use with the while loop\n",
    "        j = i\n",
    "        while j>0 and array[j] < array[j-1]: # O(n)\n",
    "            steps += 1\n",
    "            print(f'swapping array[{j}] vs. array[{j-1}] | {array[j]} vs. {array[j-1]}')\n",
    "            swap(array, j, j-1)\n",
    "            j -= 1\n",
    "    print('steps taken:', steps)\n",
    "        \n",
    "my_list = [50, 49, 39, 25, 22, 21, 20, 1]\n",
    "insertionSort(my_list)\n",
    "my_list"
   ]
  },
  {
   "cell_type": "markdown",
   "metadata": {},
   "source": [
    "## Merge Sort"
   ]
  },
  {
   "cell_type": "markdown",
   "metadata": {},
   "source": [
    "#### How it Works"
   ]
  },
  {
   "cell_type": "code",
   "execution_count": null,
   "metadata": {},
   "outputs": [],
   "source": [
    "# We'll come back to merge sort - it uses recursion in its simplest implementation"
   ]
  },
  {
   "cell_type": "markdown",
   "metadata": {},
   "source": [
    "# Binary Search\n",
    "\n",
    "The Binary Search algorithm works by finding the number in the middle of a given array and comparing it to the target. Given that the array is sorted\n",
    "\n",
    "* The worst case run time for this algorithm is `O(log(n))`"
   ]
  },
  {
   "cell_type": "code",
   "execution_count": null,
   "metadata": {},
   "outputs": [],
   "source": []
  },
  {
   "cell_type": "markdown",
   "metadata": {},
   "source": [
    "# Exercises"
   ]
  },
  {
   "cell_type": "markdown",
   "metadata": {},
   "source": [
    "### Exercise #1 <br>\n",
    "<p>Reverse the list below in-place using an in-place algorithm.<br>For extra credit: Reverse the strings at the same time.</p>"
   ]
  },
  {
   "cell_type": "code",
   "execution_count": null,
   "metadata": {},
   "outputs": [],
   "source": [
    "words = ['this' , 'is', 'a', 'sentence', '.']\n"
   ]
  },
  {
   "cell_type": "markdown",
   "metadata": {},
   "source": [
    "### Exercise #2 <br>\n",
    "<p>Create a function that counts how many distinct words are in the string below, then outputs a dictionary with the words as the key and the value as the amount of times that word appears in the string.<br>Should output:<br>{'a': 5,<br>\n",
    " 'abstract': 1,<br>\n",
    " 'an': 3,<br>\n",
    " 'array': 2, ... etc...</p>"
   ]
  },
  {
   "cell_type": "code",
   "execution_count": null,
   "metadata": {},
   "outputs": [],
   "source": [
    "a_text = 'In computing, a hash table hash map is a data structure which implements an associative array abstract data type, a structure that can map keys to values. A hash table uses a hash function to compute an index into an array of buckets or slots from which the desired value can be found'\n",
    "\n"
   ]
  },
  {
   "cell_type": "markdown",
   "metadata": {},
   "source": [
    "## Exercise #3\n",
    "\n",
    "Write a program to implement a Linear Search Algorithm. Also in a comment, write the Time Complexity of the following algorithm.\n",
    "\n",
    "#### Hint: Linear Searching will require searching a list for a given number. "
   ]
  },
  {
   "cell_type": "code",
   "execution_count": null,
   "metadata": {},
   "outputs": [],
   "source": [
    "# basically you're creating your own version of the .index() function"
   ]
  }
 ],
 "metadata": {
  "kernelspec": {
   "display_name": "Python 3",
   "language": "python",
   "name": "python3"
  },
  "language_info": {
   "codemirror_mode": {
    "name": "ipython",
    "version": 3
   },
   "file_extension": ".py",
   "mimetype": "text/x-python",
   "name": "python",
   "nbconvert_exporter": "python",
   "pygments_lexer": "ipython3",
   "version": "3.8.8"
  }
 },
 "nbformat": 4,
 "nbformat_minor": 2
}
